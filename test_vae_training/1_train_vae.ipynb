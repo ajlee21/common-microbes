{
 "cells": [
  {
   "cell_type": "markdown",
   "id": "5d904319",
   "metadata": {},
   "source": [
    "# Train VAE model\n",
    "\n",
    "This notebook will first try to train the current VAE model before modifying the loss function to work with count data"
   ]
  },
  {
   "cell_type": "code",
   "execution_count": 1,
   "id": "b819c845",
   "metadata": {},
   "outputs": [
    {
     "name": "stdout",
     "output_type": "stream",
     "text": [
      "WARNING:tensorflow:From /home/alexandra/anaconda3/envs/microbe/lib/python3.7/site-packages/ponyo/helper_vae.py:21: The name tf.ConfigProto is deprecated. Please use tf.compat.v1.ConfigProto instead.\n",
      "\n",
      "WARNING:tensorflow:From /home/alexandra/anaconda3/envs/microbe/lib/python3.7/site-packages/ponyo/helper_vae.py:25: The name tf.Session is deprecated. Please use tf.compat.v1.Session instead.\n",
      "\n",
      "WARNING:tensorflow:From /home/alexandra/anaconda3/envs/microbe/lib/python3.7/site-packages/ponyo/helper_vae.py:25: The name tf.get_default_graph is deprecated. Please use tf.compat.v1.get_default_graph instead.\n",
      "\n"
     ]
    },
    {
     "name": "stderr",
     "output_type": "stream",
     "text": [
      "Using TensorFlow backend.\n"
     ]
    }
   ],
   "source": [
    "%load_ext autoreload\n",
    "%autoreload 2\n",
    "%matplotlib inline\n",
    "import os\n",
    "import matplotlib.pyplot as plt\n",
    "import pandas as pd\n",
    "from ponyo import utils, train_vae_modules"
   ]
  },
  {
   "cell_type": "code",
   "execution_count": 2,
   "id": "a14176d9",
   "metadata": {},
   "outputs": [
    {
     "name": "stdout",
     "output_type": "stream",
     "text": [
      "WARNING:tensorflow:From /home/alexandra/anaconda3/envs/microbe/lib/python3.7/site-packages/ponyo/train_vae_modules.py:56: The name tf.set_random_seed is deprecated. Please use tf.compat.v1.set_random_seed instead.\n",
      "\n"
     ]
    }
   ],
   "source": [
    "# Set seeds to get reproducible VAE trained models\n",
    "train_vae_modules.set_all_seeds()"
   ]
  },
  {
   "cell_type": "code",
   "execution_count": 3,
   "id": "f225d8a1",
   "metadata": {},
   "outputs": [],
   "source": [
    "base_dir = os.path.abspath(os.path.join(os.getcwd(), \"../\"))\n",
    "\n",
    "# Read in config variables\n",
    "config_filename = os.path.abspath(\n",
    "    os.path.join(base_dir, \"test_vae_training\", \"config_current_vae.tsv\")\n",
    ")\n",
    "\n",
    "params = utils.read_config(config_filename)\n",
    "\n",
    "dataset_name = params[\"dataset_name\"]\n",
    "\n",
    "normalized_compendium_filename = params[\"normalized_compendium_filename\"]"
   ]
  },
  {
   "cell_type": "code",
   "execution_count": 4,
   "id": "5b77d696",
   "metadata": {},
   "outputs": [],
   "source": [
    "# Create VAE directories if needed\n",
    "output_dirs = [\n",
    "    os.path.join(base_dir, dataset_name, \"models\"),\n",
    "    os.path.join(base_dir, dataset_name, \"logs\"),\n",
    "]\n",
    "\n",
    "NN_architecture = params[\"NN_architecture\"]\n",
    "\n",
    "# Check if NN architecture directory exist otherwise create\n",
    "for each_dir in output_dirs:\n",
    "    sub_dir = os.path.join(each_dir, NN_architecture)\n",
    "    os.makedirs(sub_dir, exist_ok=True)"
   ]
  },
  {
   "cell_type": "code",
   "execution_count": 5,
   "id": "82898aee",
   "metadata": {
    "scrolled": true
   },
   "outputs": [
    {
     "name": "stdout",
     "output_type": "stream",
     "text": [
      "input dataset contains 11857 samples and 1232 genes\n",
      "WARNING:tensorflow:From /home/alexandra/anaconda3/envs/microbe/lib/python3.7/site-packages/tensorflow_core/python/ops/resource_variable_ops.py:1630: calling BaseResourceVariable.__init__ (from tensorflow.python.ops.resource_variable_ops) with constraint is deprecated and will be removed in a future version.\n",
      "Instructions for updating:\n",
      "If using Keras pass *_constraint arguments to layers.\n",
      "tracking <tf.Variable 'Variable:0' shape=() dtype=float32> beta\n",
      "WARNING:tensorflow:From /home/alexandra/anaconda3/envs/microbe/lib/python3.7/site-packages/tensorflow_core/python/ops/nn_impl.py:183: where (from tensorflow.python.ops.array_ops) is deprecated and will be removed in a future version.\n",
      "Instructions for updating:\n",
      "Use tf.where in 2.0, which has the same broadcast rule as np.where\n"
     ]
    },
    {
     "name": "stderr",
     "output_type": "stream",
     "text": [
      "/home/alexandra/anaconda3/envs/microbe/lib/python3.7/site-packages/keras/engine/training_utils.py:819: UserWarning: Output custom_variational_layer_1 missing from loss dictionary. We assume this was done on purpose. The fit and evaluate APIs will not be expecting any data to be passed to custom_variational_layer_1.\n",
      "  'be expecting any data to be passed to {0}.'.format(name))\n"
     ]
    },
    {
     "name": "stdout",
     "output_type": "stream",
     "text": [
      "WARNING:tensorflow:From /home/alexandra/anaconda3/envs/microbe/lib/python3.7/site-packages/keras/backend/tensorflow_backend.py:422: The name tf.global_variables is deprecated. Please use tf.compat.v1.global_variables instead.\n",
      "\n",
      "Train on 8893 samples, validate on 2964 samples\n",
      "Epoch 1/100\n",
      "8893/8893 [==============================] - 62s 7ms/step - loss: -2015050653490.9775 - val_loss: -17467370396653266944.0000\n",
      "Epoch 2/100\n",
      "8893/8893 [==============================] - 61s 7ms/step - loss: -27152581734426.2500 - val_loss: -1395458230301252352.0000\n",
      "Epoch 3/100\n",
      "8893/8893 [==============================] - 61s 7ms/step - loss: -99868955778706.2812 - val_loss: -256634244838233604096.0000\n",
      "Epoch 4/100\n",
      "8893/8893 [==============================] - 62s 7ms/step - loss: -229608657059980.0312 - val_loss: -23941654673538326462464.0000\n",
      "Epoch 5/100\n",
      "8893/8893 [==============================] - 61s 7ms/step - loss: -428116427178584.6250 - val_loss: -8162257817219704553472.0000\n",
      "Epoch 6/100\n",
      "8893/8893 [==============================] - 61s 7ms/step - loss: -693068958186784.8750 - val_loss: -177926356160090351702376448.0000\n",
      "Epoch 7/100\n",
      "8893/8893 [==============================] - 57s 6ms/step - loss: -1041629769073572.1250 - val_loss: -269351441877912813568.0000\n",
      "Epoch 8/100\n",
      "8893/8893 [==============================] - 57s 6ms/step - loss: -1482865656993691.0000 - val_loss: -6817455133078424484052992.0000\n",
      "Epoch 9/100\n",
      "8893/8893 [==============================] - 57s 6ms/step - loss: -2000539861502919.7500 - val_loss: -5483903776064233537536.0000\n",
      "Epoch 10/100\n",
      "8893/8893 [==============================] - 57s 6ms/step - loss: -2652431941620710.0000 - val_loss: nan\n",
      "Epoch 11/100\n",
      "8893/8893 [==============================] - 57s 6ms/step - loss: -3357584682234276.5000 - val_loss: -216890614287356868754931712.0000\n",
      "Epoch 12/100\n",
      "8893/8893 [==============================] - 57s 6ms/step - loss: -4198527002875906.0000 - val_loss: -172706011018246772035158016.0000\n",
      "Epoch 13/100\n",
      "8893/8893 [==============================] - 57s 6ms/step - loss: -5188329467335411.0000 - val_loss: -16543750762542496728743936.0000\n",
      "Epoch 14/100\n",
      "8893/8893 [==============================] - 58s 6ms/step - loss: -6235711885863183.0000 - val_loss: -49258524424138754426404864.0000\n",
      "Epoch 15/100\n",
      "8893/8893 [==============================] - 57s 6ms/step - loss: -7443145373266750.0000 - val_loss: -7057973113008386211840.0000\n",
      "Epoch 16/100\n",
      "8893/8893 [==============================] - 57s 6ms/step - loss: -8793361665906666.0000 - val_loss: nan\n",
      "Epoch 17/100\n",
      "8893/8893 [==============================] - 57s 6ms/step - loss: -11742042697624582.0000 - val_loss: nan\n",
      "Epoch 18/100\n",
      "8893/8893 [==============================] - 57s 6ms/step - loss: nan - val_loss: nan\n",
      "Epoch 19/100\n",
      "8893/8893 [==============================] - 57s 6ms/step - loss: nan - val_loss: nan\n",
      "Epoch 20/100\n",
      "8893/8893 [==============================] - 57s 6ms/step - loss: nan - val_loss: nan\n",
      "Epoch 21/100\n",
      "8893/8893 [==============================] - 57s 6ms/step - loss: nan - val_loss: nan\n",
      "Epoch 22/100\n",
      "8893/8893 [==============================] - 57s 6ms/step - loss: nan - val_loss: nan\n",
      "Epoch 23/100\n",
      "8893/8893 [==============================] - 57s 6ms/step - loss: nan - val_loss: nan\n",
      "Epoch 24/100\n",
      "8893/8893 [==============================] - 57s 6ms/step - loss: nan - val_loss: nan\n",
      "Epoch 25/100\n",
      "8893/8893 [==============================] - 57s 6ms/step - loss: nan - val_loss: nan\n",
      "Epoch 26/100\n",
      "8893/8893 [==============================] - 57s 6ms/step - loss: nan - val_loss: nan\n",
      "Epoch 27/100\n",
      "8893/8893 [==============================] - 57s 6ms/step - loss: nan - val_loss: nan\n",
      "Epoch 28/100\n",
      "8893/8893 [==============================] - 57s 6ms/step - loss: nan - val_loss: nan\n",
      "Epoch 29/100\n",
      "8893/8893 [==============================] - 58s 7ms/step - loss: nan - val_loss: nan\n",
      "Epoch 30/100\n",
      "8893/8893 [==============================] - 57s 6ms/step - loss: nan - val_loss: nan\n",
      "Epoch 31/100\n",
      "8893/8893 [==============================] - 57s 6ms/step - loss: nan - val_loss: nan\n",
      "Epoch 32/100\n",
      "8893/8893 [==============================] - 57s 6ms/step - loss: nan - val_loss: nan\n",
      "Epoch 33/100\n",
      "8893/8893 [==============================] - 57s 6ms/step - loss: nan - val_loss: nan\n",
      "Epoch 34/100\n",
      "8893/8893 [==============================] - 57s 6ms/step - loss: nan - val_loss: nan\n",
      "Epoch 35/100\n",
      "8893/8893 [==============================] - 58s 6ms/step - loss: nan - val_loss: nan\n",
      "Epoch 36/100\n",
      "8893/8893 [==============================] - 57s 6ms/step - loss: nan - val_loss: nan\n",
      "Epoch 37/100\n",
      "8893/8893 [==============================] - 57s 6ms/step - loss: nan - val_loss: nan\n",
      "Epoch 38/100\n",
      "8893/8893 [==============================] - 57s 6ms/step - loss: nan - val_loss: nan\n",
      "Epoch 39/100\n",
      "8893/8893 [==============================] - 57s 6ms/step - loss: nan - val_loss: nan\n",
      "Epoch 40/100\n",
      "8893/8893 [==============================] - 57s 6ms/step - loss: nan - val_loss: nan\n",
      "Epoch 41/100\n",
      "8893/8893 [==============================] - 57s 6ms/step - loss: nan - val_loss: nan\n",
      "Epoch 42/100\n",
      "8893/8893 [==============================] - 57s 6ms/step - loss: nan - val_loss: nan\n",
      "Epoch 43/100\n",
      "8893/8893 [==============================] - 58s 7ms/step - loss: nan - val_loss: nan\n",
      "Epoch 44/100\n",
      "8893/8893 [==============================] - 57s 6ms/step - loss: nan - val_loss: nan\n",
      "Epoch 45/100\n",
      "8893/8893 [==============================] - 57s 6ms/step - loss: nan - val_loss: nan\n",
      "Epoch 46/100\n",
      "8893/8893 [==============================] - 57s 6ms/step - loss: nan - val_loss: nan\n",
      "Epoch 47/100\n",
      "8893/8893 [==============================] - 57s 6ms/step - loss: nan - val_loss: nan\n",
      "Epoch 48/100\n",
      "8893/8893 [==============================] - 57s 6ms/step - loss: nan - val_loss: nan\n",
      "Epoch 49/100\n",
      "8893/8893 [==============================] - 57s 6ms/step - loss: nan - val_loss: nan\n",
      "Epoch 50/100\n",
      "8893/8893 [==============================] - 57s 6ms/step - loss: nan - val_loss: nan\n",
      "Epoch 51/100\n",
      "8893/8893 [==============================] - 57s 6ms/step - loss: nan - val_loss: nan\n",
      "Epoch 52/100\n",
      "8893/8893 [==============================] - 57s 6ms/step - loss: nan - val_loss: nan\n",
      "Epoch 53/100\n",
      "8893/8893 [==============================] - 57s 6ms/step - loss: nan - val_loss: nan\n",
      "Epoch 54/100\n",
      "8893/8893 [==============================] - 57s 6ms/step - loss: nan - val_loss: nan\n",
      "Epoch 55/100\n",
      "8893/8893 [==============================] - 57s 6ms/step - loss: nan - val_loss: nan\n",
      "Epoch 56/100\n",
      "8893/8893 [==============================] - 58s 6ms/step - loss: nan - val_loss: nan\n",
      "Epoch 57/100\n",
      "8893/8893 [==============================] - 57s 6ms/step - loss: nan - val_loss: nan\n",
      "Epoch 58/100\n",
      "8893/8893 [==============================] - 57s 6ms/step - loss: nan - val_loss: nan\n",
      "Epoch 59/100\n",
      "8893/8893 [==============================] - 57s 6ms/step - loss: nan - val_loss: nan\n",
      "Epoch 60/100\n",
      "8893/8893 [==============================] - 57s 6ms/step - loss: nan - val_loss: nan\n",
      "Epoch 61/100\n",
      "8893/8893 [==============================] - 57s 6ms/step - loss: nan - val_loss: nan\n",
      "Epoch 62/100\n",
      "8893/8893 [==============================] - 57s 6ms/step - loss: nan - val_loss: nan\n",
      "Epoch 63/100\n",
      "8893/8893 [==============================] - 57s 6ms/step - loss: nan - val_loss: nan\n",
      "Epoch 64/100\n",
      "8893/8893 [==============================] - 57s 6ms/step - loss: nan - val_loss: nan\n",
      "Epoch 65/100\n",
      "8893/8893 [==============================] - 57s 6ms/step - loss: nan - val_loss: nan\n",
      "Epoch 66/100\n",
      "8893/8893 [==============================] - 57s 6ms/step - loss: nan - val_loss: nan\n",
      "Epoch 67/100\n",
      "8893/8893 [==============================] - 57s 6ms/step - loss: nan - val_loss: nan\n",
      "Epoch 68/100\n",
      "8893/8893 [==============================] - 57s 6ms/step - loss: nan - val_loss: nan\n",
      "Epoch 69/100\n",
      "8893/8893 [==============================] - 57s 6ms/step - loss: nan - val_loss: nan\n",
      "Epoch 70/100\n",
      "8893/8893 [==============================] - 57s 6ms/step - loss: nan - val_loss: nan\n",
      "Epoch 71/100\n",
      "8893/8893 [==============================] - 57s 6ms/step - loss: nan - val_loss: nan\n",
      "Epoch 72/100\n",
      "8893/8893 [==============================] - 57s 6ms/step - loss: nan - val_loss: nan\n",
      "Epoch 73/100\n",
      "8893/8893 [==============================] - 57s 6ms/step - loss: nan - val_loss: nan\n",
      "Epoch 74/100\n",
      "8893/8893 [==============================] - 60s 7ms/step - loss: nan - val_loss: nan\n",
      "Epoch 75/100\n",
      "8893/8893 [==============================] - 61s 7ms/step - loss: nan - val_loss: nan\n",
      "Epoch 76/100\n",
      "8893/8893 [==============================] - 61s 7ms/step - loss: nan - val_loss: nan\n",
      "Epoch 77/100\n",
      "8893/8893 [==============================] - 62s 7ms/step - loss: nan - val_loss: nan\n",
      "Epoch 78/100\n",
      "8893/8893 [==============================] - 61s 7ms/step - loss: nan - val_loss: nan\n",
      "Epoch 79/100\n",
      "8893/8893 [==============================] - 61s 7ms/step - loss: nan - val_loss: nan\n",
      "Epoch 80/100\n",
      "8893/8893 [==============================] - 62s 7ms/step - loss: nan - val_loss: nan\n",
      "Epoch 81/100\n",
      "8893/8893 [==============================] - 57s 6ms/step - loss: nan - val_loss: nan\n",
      "Epoch 82/100\n",
      "8893/8893 [==============================] - 57s 6ms/step - loss: nan - val_loss: nan\n",
      "Epoch 83/100\n",
      "8893/8893 [==============================] - 57s 6ms/step - loss: nan - val_loss: nan\n",
      "Epoch 84/100\n",
      "8893/8893 [==============================] - 57s 6ms/step - loss: nan - val_loss: nan\n",
      "Epoch 85/100\n",
      "8893/8893 [==============================] - 57s 6ms/step - loss: nan - val_loss: nan\n",
      "Epoch 86/100\n",
      "8893/8893 [==============================] - 57s 6ms/step - loss: nan - val_loss: nan\n",
      "Epoch 87/100\n",
      "8893/8893 [==============================] - 57s 6ms/step - loss: nan - val_loss: nan\n",
      "Epoch 88/100\n",
      "8893/8893 [==============================] - 57s 6ms/step - loss: nan - val_loss: nan\n",
      "Epoch 89/100\n",
      "8893/8893 [==============================] - 57s 6ms/step - loss: nan - val_loss: nan\n",
      "Epoch 90/100\n",
      "8893/8893 [==============================] - 57s 6ms/step - loss: nan - val_loss: nan\n",
      "Epoch 91/100\n",
      "8893/8893 [==============================] - 57s 6ms/step - loss: nan - val_loss: nan\n",
      "Epoch 92/100\n",
      "8893/8893 [==============================] - 57s 6ms/step - loss: nan - val_loss: nan\n",
      "Epoch 93/100\n",
      "8893/8893 [==============================] - 57s 6ms/step - loss: nan - val_loss: nan\n",
      "Epoch 94/100\n",
      "8893/8893 [==============================] - 57s 6ms/step - loss: nan - val_loss: nan\n",
      "Epoch 95/100\n",
      "8893/8893 [==============================] - 57s 6ms/step - loss: nan - val_loss: nan\n",
      "Epoch 96/100\n",
      "8893/8893 [==============================] - 57s 6ms/step - loss: nan - val_loss: nan\n",
      "Epoch 97/100\n",
      "8893/8893 [==============================] - 57s 6ms/step - loss: nan - val_loss: nan\n",
      "Epoch 98/100\n",
      "8893/8893 [==============================] - 58s 6ms/step - loss: nan - val_loss: nan\n",
      "Epoch 99/100\n",
      "8893/8893 [==============================] - 57s 6ms/step - loss: nan - val_loss: nan\n",
      "Epoch 100/100\n",
      "8893/8893 [==============================] - 57s 6ms/step - loss: nan - val_loss: nan\n"
     ]
    },
    {
     "data": {
      "image/png": "[encoded data removed]",
      "text/plain": [
       "<Figure size 432x288 with 1 Axes>"
      ]
     },
     "metadata": {
      "needs_background": "light"
     },
     "output_type": "display_data"
    }
   ],
   "source": [
    "# Train VAE on new compendium data\n",
    "train_vae_modules.train_vae(config_filename, normalized_compendium_filename)"
   ]
  },
  {
   "cell_type": "code",
   "execution_count": 6,
   "id": "3e2145ef",
   "metadata": {},
   "outputs": [],
   "source": [
    "# Plot training and validation loss separately\n",
    "stat_logs_filename = \"logs/NN_2500_30/tybalt_2layer_30latent_stats.tsv\"\n",
    "\n",
    "stats = pd.read_csv(stat_logs_filename, sep=\"\\t\", index_col=None, header=0)"
   ]
  },
  {
   "cell_type": "code",
   "execution_count": 7,
   "id": "b19c2349",
   "metadata": {},
   "outputs": [
    {
     "data": {
      "text/plain": [
       "[<matplotlib.lines.Line2D at 0x7f78d3074e90>]"
      ]
     },
     "execution_count": 7,
     "metadata": {},
     "output_type": "execute_result"
    },
    {
     "data": {
      "image/png": "[encoded data removed]",
      "text/plain": [
       "<Figure size 432x288 with 1 Axes>"
      ]
     },
     "metadata": {
      "needs_background": "light"
     },
     "output_type": "display_data"
    }
   ],
   "source": [
    "plt.plot(stats[\"loss\"])"
   ]
  },
  {
   "cell_type": "code",
   "execution_count": 8,
   "id": "f77909bb",
   "metadata": {},
   "outputs": [
    {
     "data": {
      "text/plain": [
       "[<matplotlib.lines.Line2D at 0x7f78d14211d0>]"
      ]
     },
     "execution_count": 8,
     "metadata": {},
     "output_type": "execute_result"
    },
    {
     "data": {
      "image/png": "[encoded data removed]",
      "text/plain": [
       "<Figure size 432x288 with 1 Axes>"
      ]
     },
     "metadata": {
      "needs_background": "light"
     },
     "output_type": "display_data"
    }
   ],
   "source": [
    "plt.plot(stats[\"val_loss\"], color=\"orange\")"
   ]
  }
 ],
 "metadata": {
  "jupytext": {
   "formats": "ipynb,py"
  },
  "kernelspec": {
   "display_name": "Python [conda env:microbe] *",
   "language": "python",
   "name": "conda-env-microbe-py"
  },
  "language_info": {
   "codemirror_mode": {
    "name": "ipython",
    "version": 3
   },
   "file_extension": ".py",
   "mimetype": "text/x-python",
   "name": "python",
   "nbconvert_exporter": "python",
   "pygments_lexer": "ipython3",
   "version": "3.7.10"
  }
 },
 "nbformat": 4,
 "nbformat_minor": 5
}
